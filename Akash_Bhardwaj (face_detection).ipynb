{
 "cells": [
  {
   "cell_type": "markdown",
   "metadata": {},
   "source": [
    "# Face detection on person’s images using opencv\n",
    "#### Created by Akash Bhardwaj (Bootcamp - 2019)"
   ]
  },
  {
   "cell_type": "code",
   "execution_count": 1,
   "metadata": {},
   "outputs": [],
   "source": [
    "import cv2\n",
    "import matplotlib.pyplot as plt"
   ]
  },
  {
   "cell_type": "code",
   "execution_count": 2,
   "metadata": {},
   "outputs": [],
   "source": [
    "face_cascade = cv2.CascadeClassifier('haarcascade_frontalface_default.xml')"
   ]
  },
  {
   "cell_type": "code",
   "execution_count": 3,
   "metadata": {},
   "outputs": [],
   "source": [
    "img = cv2.imread(\"face_det.jpeg\")"
   ]
  },
  {
   "cell_type": "code",
   "execution_count": 4,
   "metadata": {},
   "outputs": [],
   "source": [
    "while 1:  \n",
    "  \n",
    "    # convert to gray scale of each frames \n",
    "    gray = cv2.cvtColor(img, cv2.COLOR_BGR2GRAY) \n",
    "  \n",
    "    # Detects faces of different sizes in the input image \n",
    "    faces = face_cascade.detectMultiScale(gray, 1.3, 5) \n",
    "  \n",
    "    for (x,y,w,h) in faces: \n",
    "        # To draw a rectangle in a face\n",
    "        # where w is width and h is height of rectangle\n",
    "        cv2.rectangle(img,(x,y),(x+w,y+h),(255,255,0),2)  \n",
    "        roi_gray = gray[y:y+h, x:x+w] \n",
    "        roi_color = img[y:y+h, x:x+w]   \n",
    "  \n",
    "    # Display an image in a window \n",
    "    cv2.imshow('img',img) \n",
    "  \n",
    "    # Wait for Enter key to stop \n",
    "    k = cv2.waitKey(0)\n",
    "    if k == 13: \n",
    "        break\n",
    "# Destroy all open windows\n",
    "cv2.destroyAllWindows() "
   ]
  },
  {
   "cell_type": "markdown",
   "metadata": {},
   "source": [
    "# Face detection using webcam"
   ]
  },
  {
   "cell_type": "code",
   "execution_count": 5,
   "metadata": {},
   "outputs": [],
   "source": [
    "import cv2\n",
    "import numpy as np"
   ]
  },
  {
   "cell_type": "code",
   "execution_count": 6,
   "metadata": {},
   "outputs": [],
   "source": [
    "face_cascade=cv2.CascadeClassifier('haarcascade_frontalface_default.xml')"
   ]
  },
  {
   "cell_type": "code",
   "execution_count": 7,
   "metadata": {},
   "outputs": [],
   "source": [
    "capture_img=cv2.VideoCapture(0)\n",
    "while True:\n",
    "    ret,image_detect=capture_img.read()\n",
    "    \n",
    "    # converting image to gray scale image\n",
    "    img_gray_converted=cv2.cvtColor(image_detect,cv2.COLOR_BGR2GRAY)\n",
    "    \n",
    "    # detecting face on the image converted to gray\n",
    "    face_detect=face_cascade.detectMultiScale(img_gray_converted,scaleFactor=1.3,minNeighbors=5)\n",
    "    \n",
    "    # creating boundary region on detected face\n",
    "    for (x,y,w,h) in face_detect:\n",
    "        cv2.rectangle(image_detect,(x,y),(x+w,y+h),(0,255,0),3) #To draw the rectangle on the face\n",
    "        roi_image_gray=img_gray_converted[y:y+h,x:x+w]\n",
    "        roi_color=image_detect[y:y+h,x:x+w]\n",
    "    cv2.imshow('img',image_detect)\n",
    "    k=cv2.waitKey(13)\n",
    "    if k==13:\n",
    "        break\n",
    "# Destroy all open windows\n",
    "capture_img.release()\n",
    "cv2.destroyAllWindows()"
   ]
  }
 ],
 "metadata": {
  "kernelspec": {
   "display_name": "Python 3",
   "language": "python",
   "name": "python3"
  },
  "language_info": {
   "codemirror_mode": {
    "name": "ipython",
    "version": 3
   },
   "file_extension": ".py",
   "mimetype": "text/x-python",
   "name": "python",
   "nbconvert_exporter": "python",
   "pygments_lexer": "ipython3",
   "version": "3.7.3"
  }
 },
 "nbformat": 4,
 "nbformat_minor": 2
}
